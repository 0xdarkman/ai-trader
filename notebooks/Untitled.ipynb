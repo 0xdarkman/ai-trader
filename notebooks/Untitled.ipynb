{
 "cells": [
  {
   "cell_type": "code",
   "execution_count": 38,
   "metadata": {},
   "outputs": [],
   "source": [
    "import pandas as pd"
   ]
  },
  {
   "cell_type": "code",
   "execution_count": 39,
   "metadata": {},
   "outputs": [],
   "source": [
    "df = pd.read_csv(\"data/BTCUSD_1hr.csv\")"
   ]
  },
  {
   "cell_type": "code",
   "execution_count": 40,
   "metadata": {},
   "outputs": [],
   "source": [
    "df = df[[\"Date\", \"Open\", \"High\", \"Low\", \"Close\", \"Volume\"]]"
   ]
  },
  {
   "cell_type": "code",
   "execution_count": 41,
   "metadata": {},
   "outputs": [],
   "source": [
    "df[\"Date\"] = df[\"Date\"].apply(pd.Timestamp)"
   ]
  },
  {
   "cell_type": "code",
   "execution_count": 42,
   "metadata": {},
   "outputs": [],
   "source": [
    "df = df.sort_values(by=\"Date\").set_index(\"Date\")"
   ]
  },
  {
   "cell_type": "code",
   "execution_count": 43,
   "metadata": {},
   "outputs": [],
   "source": [
    "ohlc_dict = {'Open':'first', 'High':'max', 'Low':'min', 'Close': 'last', \"Volume\": 'mean'}"
   ]
  },
  {
   "cell_type": "code",
   "execution_count": 44,
   "metadata": {},
   "outputs": [],
   "source": [
    "df = df.resample('4H').agg(ohlc_dict)"
   ]
  },
  {
   "cell_type": "code",
   "execution_count": 46,
   "metadata": {},
   "outputs": [],
   "source": [
    "df = df.dropna()"
   ]
  },
  {
   "cell_type": "code",
   "execution_count": 54,
   "metadata": {},
   "outputs": [
    {
     "data": {
      "text/html": [
       "<div>\n",
       "<style scoped>\n",
       "    .dataframe tbody tr th:only-of-type {\n",
       "        vertical-align: middle;\n",
       "    }\n",
       "\n",
       "    .dataframe tbody tr th {\n",
       "        vertical-align: top;\n",
       "    }\n",
       "\n",
       "    .dataframe thead th {\n",
       "        text-align: right;\n",
       "    }\n",
       "</style>\n",
       "<table border=\"1\" class=\"dataframe\">\n",
       "  <thead>\n",
       "    <tr style=\"text-align: right;\">\n",
       "      <th></th>\n",
       "      <th>Open</th>\n",
       "      <th>High</th>\n",
       "      <th>Low</th>\n",
       "      <th>Close</th>\n",
       "      <th>Volume</th>\n",
       "    </tr>\n",
       "    <tr>\n",
       "      <th>Date</th>\n",
       "      <th></th>\n",
       "      <th></th>\n",
       "      <th></th>\n",
       "      <th></th>\n",
       "      <th></th>\n",
       "    </tr>\n",
       "  </thead>\n",
       "  <tbody>\n",
       "    <tr>\n",
       "      <th>2015-10-09 00:00:00</th>\n",
       "      <td>243.95</td>\n",
       "      <td>243.95</td>\n",
       "      <td>243.60</td>\n",
       "      <td>243.60</td>\n",
       "      <td>0.750000</td>\n",
       "    </tr>\n",
       "    <tr>\n",
       "      <th>2015-10-09 04:00:00</th>\n",
       "      <td>243.60</td>\n",
       "      <td>243.60</td>\n",
       "      <td>243.60</td>\n",
       "      <td>243.60</td>\n",
       "      <td>0.000000</td>\n",
       "    </tr>\n",
       "    <tr>\n",
       "      <th>2015-10-09 08:00:00</th>\n",
       "      <td>243.60</td>\n",
       "      <td>243.75</td>\n",
       "      <td>243.60</td>\n",
       "      <td>243.63</td>\n",
       "      <td>0.250000</td>\n",
       "    </tr>\n",
       "    <tr>\n",
       "      <th>2015-10-09 12:00:00</th>\n",
       "      <td>243.63</td>\n",
       "      <td>244.00</td>\n",
       "      <td>243.63</td>\n",
       "      <td>244.00</td>\n",
       "      <td>2.036271</td>\n",
       "    </tr>\n",
       "    <tr>\n",
       "      <th>2015-10-09 16:00:00</th>\n",
       "      <td>244.00</td>\n",
       "      <td>244.06</td>\n",
       "      <td>243.70</td>\n",
       "      <td>244.06</td>\n",
       "      <td>0.915656</td>\n",
       "    </tr>\n",
       "    <tr>\n",
       "      <th>...</th>\n",
       "      <td>...</td>\n",
       "      <td>...</td>\n",
       "      <td>...</td>\n",
       "      <td>...</td>\n",
       "      <td>...</td>\n",
       "    </tr>\n",
       "    <tr>\n",
       "      <th>2020-04-08 08:00:00</th>\n",
       "      <td>7323.36</td>\n",
       "      <td>7356.72</td>\n",
       "      <td>7221.54</td>\n",
       "      <td>7295.80</td>\n",
       "      <td>56.911926</td>\n",
       "    </tr>\n",
       "    <tr>\n",
       "      <th>2020-04-08 12:00:00</th>\n",
       "      <td>7295.80</td>\n",
       "      <td>7350.88</td>\n",
       "      <td>7207.50</td>\n",
       "      <td>7283.45</td>\n",
       "      <td>139.221945</td>\n",
       "    </tr>\n",
       "    <tr>\n",
       "      <th>2020-04-08 16:00:00</th>\n",
       "      <td>7283.45</td>\n",
       "      <td>7364.49</td>\n",
       "      <td>7261.61</td>\n",
       "      <td>7320.11</td>\n",
       "      <td>194.391764</td>\n",
       "    </tr>\n",
       "    <tr>\n",
       "      <th>2020-04-08 20:00:00</th>\n",
       "      <td>7320.11</td>\n",
       "      <td>7398.92</td>\n",
       "      <td>7311.33</td>\n",
       "      <td>7369.60</td>\n",
       "      <td>86.062941</td>\n",
       "    </tr>\n",
       "    <tr>\n",
       "      <th>2020-04-09 00:00:00</th>\n",
       "      <td>7369.60</td>\n",
       "      <td>7369.60</td>\n",
       "      <td>7338.23</td>\n",
       "      <td>7338.23</td>\n",
       "      <td>7.788915</td>\n",
       "    </tr>\n",
       "  </tbody>\n",
       "</table>\n",
       "<p>9865 rows × 5 columns</p>\n",
       "</div>"
      ],
      "text/plain": [
       "                        Open     High      Low    Close      Volume\n",
       "Date                                                               \n",
       "2015-10-09 00:00:00   243.95   243.95   243.60   243.60    0.750000\n",
       "2015-10-09 04:00:00   243.60   243.60   243.60   243.60    0.000000\n",
       "2015-10-09 08:00:00   243.60   243.75   243.60   243.63    0.250000\n",
       "2015-10-09 12:00:00   243.63   244.00   243.63   244.00    2.036271\n",
       "2015-10-09 16:00:00   244.00   244.06   243.70   244.06    0.915656\n",
       "...                      ...      ...      ...      ...         ...\n",
       "2020-04-08 08:00:00  7323.36  7356.72  7221.54  7295.80   56.911926\n",
       "2020-04-08 12:00:00  7295.80  7350.88  7207.50  7283.45  139.221945\n",
       "2020-04-08 16:00:00  7283.45  7364.49  7261.61  7320.11  194.391764\n",
       "2020-04-08 20:00:00  7320.11  7398.92  7311.33  7369.60   86.062941\n",
       "2020-04-09 00:00:00  7369.60  7369.60  7338.23  7338.23    7.788915\n",
       "\n",
       "[9865 rows x 5 columns]"
      ]
     },
     "execution_count": 54,
     "metadata": {},
     "output_type": "execute_result"
    }
   ],
   "source": [
    "df = df[3:]"
   ]
  },
  {
   "cell_type": "code",
   "execution_count": null,
   "metadata": {},
   "outputs": [],
   "source": []
  }
 ],
 "metadata": {
  "kernelspec": {
   "display_name": "algo",
   "language": "python",
   "name": "algo"
  },
  "language_info": {
   "codemirror_mode": {
    "name": "ipython",
    "version": 3
   },
   "file_extension": ".py",
   "mimetype": "text/x-python",
   "name": "python",
   "nbconvert_exporter": "python",
   "pygments_lexer": "ipython3",
   "version": "3.7.7"
  }
 },
 "nbformat": 4,
 "nbformat_minor": 4
}
